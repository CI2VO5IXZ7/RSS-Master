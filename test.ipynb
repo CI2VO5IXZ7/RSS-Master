{
 "cells": [
  {
   "cell_type": "code",
   "execution_count": 2,
   "metadata": {},
   "outputs": [],
   "source": [
    "import feedparser\n",
    "from logging import getLogger\n",
    "import logging\n",
    "from pprint import pprint as print\n",
    "from bs4 import BeautifulSoup\n",
    "from src.util import init_logger, md5hash_6\n",
    "import yaml"
   ]
  },
  {
   "cell_type": "code",
   "execution_count": 6,
   "metadata": {},
   "outputs": [
    {
     "data": {
      "text/plain": [
       "'221946'"
      ]
     },
     "execution_count": 6,
     "metadata": {},
     "output_type": "execute_result"
    }
   ],
   "source": [
    "md5hash_6(\"https://www.ezindie.com/feed/rss.xml\")"
   ]
  },
  {
   "cell_type": "code",
   "execution_count": null,
   "metadata": {},
   "outputs": [],
   "source": [
    "init_logger()\n",
    "logger = getLogger()"
   ]
  },
  {
   "cell_type": "code",
   "execution_count": 25,
   "metadata": {},
   "outputs": [
    {
     "data": {
      "text/plain": [
       "feedparser.exceptions.NonXMLContentType('text/html; charset=utf-8 is not an XML media type')"
      ]
     },
     "execution_count": 25,
     "metadata": {},
     "output_type": "execute_result"
    }
   ],
   "source": [
    "cfg = feedparser.parse(\"https://www.reddit.com/r/China_irl/.rs?\")\n",
    "cfg.get(\"bozo_exception\")"
   ]
  },
  {
   "cell_type": "code",
   "execution_count": 7,
   "metadata": {},
   "outputs": [
    {
     "name": "stdout",
     "output_type": "stream",
     "text": [
      "{'214af7': 'Hacker News, September 30, 2023, highest-rated articles, not '\n",
      "           'appeared on previous Hacker News Daily<br>\\n'\n",
      "           'Things Every Hacker Once Knew, RISC-V assembly tabletop board '\n",
      "           'game, two-phase locking<br>\\n'\n",
      "           '<br>\\n'\n",
      "           '总结: 这篇文章列出了2023年9月30日Hacker News上评分最高的10篇文章，这些文章之前没有出现在任何Hacker '\n",
      "           'News Daily中。这些文章涵盖了各种主题，包括黑客知识、RISC-V汇编桌面游戏和两阶段锁等。',\n",
      " '4a9530': 'A journey into the shaken baby syndrome/abusive head trauma '\n",
      "           'controversy, macOS Sonoma is available today, EU tells Apple to '\n",
      "           'open everything up to its rivals<br>\\n'\n",
      "           '<br>\\n'\n",
      "           '总结: 2023年9月27日，《Hacker '\n",
      "           'News》上评分最高的10篇文章中，有3篇是关于争议性话题的。第一篇文章探讨了婴儿被摇晃综合症/虐待性头部创伤的争议，第二篇文章宣布了macOS '\n",
      "           'Sonoma的发布，第三篇文章讲述了欧盟要求苹果向竞争对手开放一切的情况。这些文章引起了读者的广泛关注和讨论。',\n",
      " '7e3bbd': 'Hacker News, September 23, 2023, highest-rated articles, not '\n",
      "           'appeared on previous Hacker News Daily<br>\\n'\n",
      "           \"It's okay to make something nobody wants, The Frustration Loop, I \"\n",
      "           'made a transformer to predict a simple sequence manually<br>\\n'\n",
      "           '<br>\\n'\n",
      "           '总结: 这篇文章列出了2023年9月23日Hacker News上评分最高的10篇文章，这些文章之前没有出现在任何一篇Hacker '\n",
      "           'News Daily中。其中包括了一些有趣的主题，如制作无人需要的东西、挫折循环以及手动预测简单序列的转换器。',\n",
      " 'a4f637': 'OpenStreetMap.org, Postgres queue technology, Anthropic<br>\\n'\n",
      "           '<br>\\n'\n",
      "           '总结: 这篇文章总结了2023年9月25日Hacker News上评分最高的10篇文章，这些文章之前没有出现在Hacker News '\n",
      "           'Daily中。其中包括OpenStreetMap.org的新地图样式、选择Postgres队列技术、亚马逊将在Anthropic投资高达40亿美元、Bitwarden免费开源的密码管理器、婴儿潮一代的无家可归问题、ChatGPT中新的语音和图像功能、Rhythm '\n",
      "           \"0艺术作品、Ian's Shoelace Site、Unity最古老的社区宣布解散等内容。\",\n",
      " 'd8a0b7': 'Bottlerocket, Linux OS, verified boot\\n'\n",
      "           \"EU fines Intel, blocking AMD's market access\\n\"\n",
      "           'SpamChannel, spoofing emails\\n'\n",
      "           '\\n'\n",
      "           '总结: 2023年9月24日，《Hacker '\n",
      "           'News》上评分最高的10篇文章中，有3篇是关于Bottlerocket（一种最小化、不可变的Linux操作系统，具有验证引导功能）、欧盟对英特尔罚款4亿美元（因阻止AMD进入市场）以及SpamChannel（伪造电子邮件）的。',\n",
      " 'e4be88': 'LibrePCB, Bandcamp, Dictionary of Algorithms and Data Structures\\n'\n",
      "           '<br><br>总结:\\n'\n",
      "           '2023年9月29日，《Hacker News》上评分最高的10篇文章中，有3篇是之前未出现在《Hacker News '\n",
      "           'Daily》上的。这些文章涵盖了各种主题，包括开源电路板设计工具LibrePCB、音乐平台Bandcamp被Songtradr收购的影响以及算法和数据结构词典等。这些文章引起了读者的广泛关注和讨论。',\n",
      " 'e6961f': 'Hacker News, October 01, 2023, highest-rated articles, not '\n",
      "           'appeared on previous Hacker News Daily<br>\\n'\n",
      "           '计算机正确工作的假设, 人口增长趋于稳定, 头脑中看到明亮的图像<br>\\n'\n",
      "           '<br>\\n'\n",
      "           '总结: 这篇文章总结了2023年10月1日Hacker News上最受欢迎的10篇文章，这些文章之前没有出现在Hacker News '\n",
      "           'Daily中。其中包括关于计算机正确工作的假设、人口增长趋于稳定以及如何在头脑中看到明亮的图像等主题。',\n",
      " 'f0ce05': 'Hacker News, September 28, 2023, highest-rated articles, Uiua, '\n",
      "           'GPT-4V(ision), Deno Queues, Ray-Ban Meta Smart Glasses, '\n",
      "           'desalination system, open source, NT 3.1 kernel, Raspberry Pi 5, '\n",
      "           'YAML, Southwest flight WiFi.\\n'\n",
      "           '\\n'\n",
      "           '总结:\\n'\n",
      "           '这篇文章总结了2023年9月28日Hacker News上最受欢迎的10篇文章，这些文章在之前的Hacker News '\n",
      "           'Daily中没有出现过。这些文章涵盖了各种主题，包括编程语言Uiua、人工智能GPT-4V(ision)、Deno队列、Ray-Ban '\n",
      "           'Meta智能眼镜、海水淡化系统、开源软件、NT 3.1内核、Raspberry Pi '\n",
      "           '5、YAML和在西南航空飞行中无需互联网的WiFi。这些文章提供了关于技术、创新和科学的最新见解和发展。',\n",
      " 'f13192': 'Hacker News, September 22, 2023, highest-rated articles, WebP '\n",
      "           \"0day, NASA's Webb, carbon source on Europa<br>\\n\"\n",
      "           '<br>\\n'\n",
      "           '总结: 这篇文章总结了2023年9月22日Hacker News上评分最高的10篇文章，其中包括关于WebP '\n",
      "           '0day漏洞、NASA的Webb探测器在木卫二上发现的碳源等内容。',\n",
      " 'f5702c': 'Google antitrust trial, casino in your pocket, DJI Mini 4 Pro<br>\\n'\n",
      "           '<br>\\n'\n",
      "           '总结: 这篇文章列出了2023年9月26日Hacker '\n",
      "           'News上评分最高的10篇文章，其中包括对谷歌反垄断审判的分析、手机上的赌场以及DJI Mini 4 Pro等内容。'}\n"
     ]
    }
   ],
   "source": [
    "# 读取pickle\n",
    "import pickle\n",
    "with open(\"resource/cache.pkl\", \"rb\") as f:\n",
    "    feeds = pickle.load(f)\n",
    "print(feeds)"
   ]
  }
 ],
 "metadata": {
  "kernelspec": {
   "display_name": "rss",
   "language": "python",
   "name": "python3"
  },
  "language_info": {
   "codemirror_mode": {
    "name": "ipython",
    "version": 3
   },
   "file_extension": ".py",
   "mimetype": "text/x-python",
   "name": "python",
   "nbconvert_exporter": "python",
   "pygments_lexer": "ipython3",
   "version": "3.8.17"
  },
  "orig_nbformat": 4
 },
 "nbformat": 4,
 "nbformat_minor": 2
}
