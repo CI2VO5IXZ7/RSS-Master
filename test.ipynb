{
 "cells": [
  {
   "cell_type": "code",
   "execution_count": 3,
   "metadata": {},
   "outputs": [],
   "source": [
    "import feedparser\n",
    "from logging import getLogger\n",
    "import logging\n",
    "from pprint import pprint as print\n",
    "from bs4 import BeautifulSoup\n",
    "from src.util import init_logger, md5hash_6\n",
    "import yaml"
   ]
  },
  {
   "cell_type": "code",
   "execution_count": 3,
   "metadata": {},
   "outputs": [
    {
     "name": "stdout",
     "output_type": "stream",
     "text": [
      "('- htmlUrl: https://rsshub.dcts.top/36kr/information/web_news\\n'\n",
      " '    name: 908fa3\\n'\n",
      " ' text: zu1k\\n'\n",
      " 'url: https://rsshub.dcts.top/36kr/information/web_news')\n"
     ]
    }
   ],
   "source": [
    "def new_rss(rss_url, html_url, text):\n",
    "    config = f\"\"\"- htmlUrl: {html_url}\n",
    "    name: {md5hash_6(rss_url)}\\n text: {text}\\nurl: {rss_url}\"\"\"\n",
    "    return config\n",
    "\n",
    "res = new_rss(\"https://rsshub.dcts.top/36kr/information/web_news\", \"https://rsshub.dcts.top/36kr/information/web_news\", \"zu1k\")\n",
    "print(res)"
   ]
  },
  {
   "cell_type": "code",
   "execution_count": 4,
   "metadata": {},
   "outputs": [
    {
     "data": {
      "text/plain": [
       "'f1998c'"
      ]
     },
     "execution_count": 4,
     "metadata": {},
     "output_type": "execute_result"
    }
   ],
   "source": [
    "md5hash_6(\"https://www.jiqizhixin.com/rss\")"
   ]
  },
  {
   "cell_type": "code",
   "execution_count": null,
   "metadata": {},
   "outputs": [],
   "source": [
    "init_logger()\n",
    "logger = getLogger()"
   ]
  },
  {
   "cell_type": "code",
   "execution_count": null,
   "metadata": {},
   "outputs": [],
   "source": [
    "cfg = feedparser.parse(\"https://www.reddit.com/r/China_irl/.rs?\")\n",
    "cfg.get(\"bozo_exception\")"
   ]
  },
  {
   "cell_type": "code",
   "execution_count": null,
   "metadata": {},
   "outputs": [],
   "source": [
    "# 读取pickle\n",
    "import pickle\n",
    "with open(\"resource/cache.pkl\", \"rb\") as f:\n",
    "    feeds = pickle.load(f)\n",
    "print(feeds)"
   ]
  },
  {
   "cell_type": "code",
   "execution_count": null,
   "metadata": {},
   "outputs": [],
   "source": [
    "from openai import Model\n",
    "import os\n",
    "model = Model()\n",
    "res = model.list(os.environ.get(\"OPENAI_API_KEY\"))\n",
    "res"
   ]
  },
  {
   "cell_type": "code",
   "execution_count": 5,
   "metadata": {},
   "outputs": [
    {
     "data": {
      "text/plain": [
       "''"
      ]
     },
     "execution_count": 5,
     "metadata": {},
     "output_type": "execute_result"
    }
   ],
   "source": [
    "item = {\n",
    "    \"ss\": \"123\"\n",
    "}\n",
    "article = item.get(\"summary\", \"\") or item.get(\"description\", \"\") or item.get(\"media_content\", \"\") or \"\"\n",
    "article"
   ]
  },
  {
   "cell_type": "code",
   "execution_count": null,
   "metadata": {},
   "outputs": [],
   "source": [
    "text = \"测试\"\n",
    "text = text.replace('```', \" \")\n",
    "prompt = f\"\"\"\n",
    "假设你是一位多语言的文字编辑工作者,有丰富的文字内容创作经验,对于<>括起来的文本,我需要你\n",
    "1. 生成4个关键词\n",
    "2. 使用中文进行概括,要包含原文核心思想和概念,不增加自己的解释,不超过8句话\n",
    "\n",
    "请使用一下格式:\n",
    "关键词: <提取出来的关键词,使用逗号分割>\n",
    "<br>\n",
    "<br>\n",
    "总结: <中文概括>\n",
    "\n",
    "Text: <{text}>\n",
    "\"\"\""
   ]
  }
 ],
 "metadata": {
  "kernelspec": {
   "display_name": "rss",
   "language": "python",
   "name": "python3"
  },
  "language_info": {
   "codemirror_mode": {
    "name": "ipython",
    "version": 3
   },
   "file_extension": ".py",
   "mimetype": "text/x-python",
   "name": "python",
   "nbconvert_exporter": "python",
   "pygments_lexer": "ipython3",
   "version": "3.8.17"
  },
  "orig_nbformat": 4
 },
 "nbformat": 4,
 "nbformat_minor": 2
}
