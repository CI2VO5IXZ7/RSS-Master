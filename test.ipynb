{
 "cells": [
  {
   "cell_type": "code",
   "execution_count": null,
   "metadata": {},
   "outputs": [],
   "source": [
    "import feedparser\n",
    "from logging import getLogger\n",
    "import logging\n",
    "from pprint import pprint as print\n",
    "from bs4 import BeautifulSoup\n",
    "from src.util import init_logger\n",
    "import yaml"
   ]
  },
  {
   "cell_type": "code",
   "execution_count": null,
   "metadata": {},
   "outputs": [],
   "source": [
    "init_logger()\n",
    "logger = getLogger()"
   ]
  },
  {
   "cell_type": "code",
   "execution_count": null,
   "metadata": {},
   "outputs": [],
   "source": [
    "from openai import ChatCompletion\n",
    "from root import absolute\n",
    "import os\n",
    "\n"
   ]
  },
  {
   "cell_type": "code",
   "execution_count": null,
   "metadata": {},
   "outputs": [],
   "source": [
    "import opml\n",
    "\n",
    "inoreader_opml_path = absolute(\"resource\", \"inoreader-opml.xml\")\n",
    "res = opml.parse(inoreader_opml_path)\n",
    "with open(inoreader_opml_path, \"r\") as f:\n",
    "    outline = opml.parse(f)\n",
    "for item in outline:\n",
    "    print(item.text)\n",
    "    for each in item:\n",
    "        print(each.text)"
   ]
  },
  {
   "cell_type": "code",
   "execution_count": null,
   "metadata": {},
   "outputs": [],
   "source": [
    "from src.util import CONFIG_PATH\n",
    "with open(\"output.yml\", \"r\") as f:\n",
    "    config = yaml.load(f, Loader=yaml.FullLoader)\n",
    "    print(config)"
   ]
  },
  {
   "cell_type": "code",
   "execution_count": null,
   "metadata": {},
   "outputs": [],
   "source": [
    "cfg = feedparser.parse(\"https://rsshub.dcts.top/tophub/0MdKkV0dw1\")\n",
    "print(cfg)"
   ]
  },
  {
   "cell_type": "code",
   "execution_count": 2,
   "metadata": {},
   "outputs": [],
   "source": [
    "import yaml\n",
    "import xml.etree.ElementTree as ET\n",
    "\n",
    "def convert_yaml_to_opml(yaml_path, opml_path):\n",
    "    with open(yaml_path, 'r') as file:\n",
    "        data = yaml.safe_load(file)\n",
    "\n",
    "    \n",
    "    opml = ET.Element(\"opml\", version=\"1.0\")\n",
    "    head = ET.SubElement(opml, \"head\")\n",
    "    title = ET.SubElement(head, \"title\")\n",
    "    title.text = \"Feeds of 435212619 from Inoreader [https://www.inoreader.com]\"\n",
    "    \n",
    "    body = ET.SubElement(opml, \"body\")\n",
    "\n",
    "    for category_name, categoty_vals in data.items():\n",
    "        outline = ET.SubElement(body, 'outline', text=category_name, title=category_name)\n",
    "        xml_url = \n",
    "        for item in categoty_vals:\n",
    "            feed_outline = ET.SubElement(outline, \"outline\", text=item['text'], title=item['text'], type='rss',\n",
    "                                        xmlUrl=item['url'], htmlUrl=item['htmlUrl'])\n",
    "    \n",
    "    tree = ET.ElementTree(opml)\n",
    "    tree.write(opml_path, encoding='utf-8', xml_declaration=True)\n",
    "    \n",
    "convert_yaml_to_opml(\"/Users/wenzhuo/工作/project/2023S3_私有消息聚合/RSS-Master/resource/config.yml\", \"output.opml\")"
   ]
  }
 ],
 "metadata": {
  "kernelspec": {
   "display_name": "rss",
   "language": "python",
   "name": "python3"
  },
  "language_info": {
   "codemirror_mode": {
    "name": "ipython",
    "version": 3
   },
   "file_extension": ".py",
   "mimetype": "text/x-python",
   "name": "python",
   "nbconvert_exporter": "python",
   "pygments_lexer": "ipython3",
   "version": "3.8.17"
  },
  "orig_nbformat": 4
 },
 "nbformat": 4,
 "nbformat_minor": 2
}
